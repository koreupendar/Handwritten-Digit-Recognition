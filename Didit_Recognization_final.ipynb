{
 "cells": [
  {
   "cell_type": "code",
   "execution_count": 1,
   "id": "be64f6b0",
   "metadata": {},
   "outputs": [],
   "source": [
    "import tensorflow as tf\n",
    "from tensorflow.keras.datasets import mnist\n",
    "import numpy as np\n",
    "import matplotlib.pyplot as plt"
   ]
  },
  {
   "cell_type": "code",
   "execution_count": 2,
   "id": "b0ef0ca6",
   "metadata": {},
   "outputs": [],
   "source": [
    "import pandas as pd"
   ]
  },
  {
   "cell_type": "code",
   "execution_count": 3,
   "id": "e6cd2947",
   "metadata": {},
   "outputs": [
    {
     "name": "stdout",
     "output_type": "stream",
     "text": [
      "Training data shape: (60000, 28, 28), Labels shape: (60000,)\n",
      "Test data shape: (10000, 28, 28), Labels shape: (10000,)\n"
     ]
    }
   ],
   "source": [
    "# Load the data and split it into training and test sets\n",
    "(x_train, y_train), (x_test, y_test) = mnist.load_data()\n",
    "\n",
    "# Check the shape of the dataset\n",
    "print(f\"Training data shape: {x_train.shape}, Labels shape: {y_train.shape}\")\n",
    "print(f\"Test data shape: {x_test.shape}, Labels shape: {y_test.shape}\")"
   ]
  },
  {
   "cell_type": "code",
   "execution_count": 4,
   "id": "56bd8201",
   "metadata": {},
   "outputs": [
    {
     "name": "stdout",
     "output_type": "stream",
     "text": [
      "Training data shape after reshaping: (60000, 28, 28, 1)\n",
      "Test data shape after reshaping: (10000, 28, 28, 1)\n"
     ]
    }
   ],
   "source": [
    "# Normalize pixel values to be between 0 and 1\n",
    "x_train = x_train.astype('float32') / 255\n",
    "x_test = x_test.astype('float32') / 255\n",
    "\n",
    "# Reshape the data to add a channel dimension (for grayscale)\n",
    "x_train = x_train.reshape((x_train.shape[0], 28, 28, 1))\n",
    "x_test = x_test.reshape((x_test.shape[0], 28, 28, 1))\n",
    "\n",
    "# Print the new shape of the data to verify\n",
    "print(f\"Training data shape after reshaping: {x_train.shape}\")\n",
    "print(f\"Test data shape after reshaping: {x_test.shape}\")"
   ]
  },
  {
   "cell_type": "code",
   "execution_count": 5,
   "id": "0a434898",
   "metadata": {},
   "outputs": [
    {
     "name": "stdout",
     "output_type": "stream",
     "text": [
      "Training label  data shape after reshaping: (60000, 10)\n",
      "Test label data shape after reshaping: (10000, 10)\n"
     ]
    }
   ],
   "source": [
    "# Convert labels to categorical (optional)\n",
    "y_train = tf.keras.utils.to_categorical(y_train, 10)\n",
    "y_test = tf.keras.utils.to_categorical(y_test, 10)\n",
    "# Print the new shape of the data to verify\n",
    "print(f\"Training label  data shape after reshaping: {y_train.shape}\")\n",
    "print(f\"Test label data shape after reshaping: {y_test.shape}\")"
   ]
  },
  {
   "cell_type": "code",
   "execution_count": 6,
   "id": "87fb2263",
   "metadata": {},
   "outputs": [
    {
     "name": "stderr",
     "output_type": "stream",
     "text": [
      "C:\\Users\\Admin\\AppData\\Roaming\\Python\\Python39\\site-packages\\keras\\src\\layers\\convolutional\\base_conv.py:107: UserWarning: Do not pass an `input_shape`/`input_dim` argument to a layer. When using Sequential models, prefer using an `Input(shape)` object as the first layer in the model instead.\n",
      "  super().__init__(activity_regularizer=activity_regularizer, **kwargs)\n"
     ]
    },
    {
     "data": {
      "text/html": [
       "<pre style=\"white-space:pre;overflow-x:auto;line-height:normal;font-family:Menlo,'DejaVu Sans Mono',consolas,'Courier New',monospace\"><span style=\"font-weight: bold\">Model: \"sequential\"</span>\n",
       "</pre>\n"
      ],
      "text/plain": [
       "\u001b[1mModel: \"sequential\"\u001b[0m\n"
      ]
     },
     "metadata": {},
     "output_type": "display_data"
    },
    {
     "data": {
      "text/html": [
       "<pre style=\"white-space:pre;overflow-x:auto;line-height:normal;font-family:Menlo,'DejaVu Sans Mono',consolas,'Courier New',monospace\">┏━━━━━━━━━━━━━━━━━━━━━━━━━━━━━━━━━━━━━━┳━━━━━━━━━━━━━━━━━━━━━━━━━━━━━┳━━━━━━━━━━━━━━━━━┓\n",
       "┃<span style=\"font-weight: bold\"> Layer (type)                         </span>┃<span style=\"font-weight: bold\"> Output Shape                </span>┃<span style=\"font-weight: bold\">         Param # </span>┃\n",
       "┡━━━━━━━━━━━━━━━━━━━━━━━━━━━━━━━━━━━━━━╇━━━━━━━━━━━━━━━━━━━━━━━━━━━━━╇━━━━━━━━━━━━━━━━━┩\n",
       "│ conv2d (<span style=\"color: #0087ff; text-decoration-color: #0087ff\">Conv2D</span>)                      │ (<span style=\"color: #00d7ff; text-decoration-color: #00d7ff\">None</span>, <span style=\"color: #00af00; text-decoration-color: #00af00\">26</span>, <span style=\"color: #00af00; text-decoration-color: #00af00\">26</span>, <span style=\"color: #00af00; text-decoration-color: #00af00\">32</span>)          │             <span style=\"color: #00af00; text-decoration-color: #00af00\">320</span> │\n",
       "├──────────────────────────────────────┼─────────────────────────────┼─────────────────┤\n",
       "│ max_pooling2d (<span style=\"color: #0087ff; text-decoration-color: #0087ff\">MaxPooling2D</span>)         │ (<span style=\"color: #00d7ff; text-decoration-color: #00d7ff\">None</span>, <span style=\"color: #00af00; text-decoration-color: #00af00\">13</span>, <span style=\"color: #00af00; text-decoration-color: #00af00\">13</span>, <span style=\"color: #00af00; text-decoration-color: #00af00\">32</span>)          │               <span style=\"color: #00af00; text-decoration-color: #00af00\">0</span> │\n",
       "├──────────────────────────────────────┼─────────────────────────────┼─────────────────┤\n",
       "│ conv2d_1 (<span style=\"color: #0087ff; text-decoration-color: #0087ff\">Conv2D</span>)                    │ (<span style=\"color: #00d7ff; text-decoration-color: #00d7ff\">None</span>, <span style=\"color: #00af00; text-decoration-color: #00af00\">11</span>, <span style=\"color: #00af00; text-decoration-color: #00af00\">11</span>, <span style=\"color: #00af00; text-decoration-color: #00af00\">64</span>)          │          <span style=\"color: #00af00; text-decoration-color: #00af00\">18,496</span> │\n",
       "├──────────────────────────────────────┼─────────────────────────────┼─────────────────┤\n",
       "│ max_pooling2d_1 (<span style=\"color: #0087ff; text-decoration-color: #0087ff\">MaxPooling2D</span>)       │ (<span style=\"color: #00d7ff; text-decoration-color: #00d7ff\">None</span>, <span style=\"color: #00af00; text-decoration-color: #00af00\">5</span>, <span style=\"color: #00af00; text-decoration-color: #00af00\">5</span>, <span style=\"color: #00af00; text-decoration-color: #00af00\">64</span>)            │               <span style=\"color: #00af00; text-decoration-color: #00af00\">0</span> │\n",
       "├──────────────────────────────────────┼─────────────────────────────┼─────────────────┤\n",
       "│ flatten (<span style=\"color: #0087ff; text-decoration-color: #0087ff\">Flatten</span>)                    │ (<span style=\"color: #00d7ff; text-decoration-color: #00d7ff\">None</span>, <span style=\"color: #00af00; text-decoration-color: #00af00\">1600</span>)                │               <span style=\"color: #00af00; text-decoration-color: #00af00\">0</span> │\n",
       "├──────────────────────────────────────┼─────────────────────────────┼─────────────────┤\n",
       "│ dense (<span style=\"color: #0087ff; text-decoration-color: #0087ff\">Dense</span>)                        │ (<span style=\"color: #00d7ff; text-decoration-color: #00d7ff\">None</span>, <span style=\"color: #00af00; text-decoration-color: #00af00\">64</span>)                  │         <span style=\"color: #00af00; text-decoration-color: #00af00\">102,464</span> │\n",
       "├──────────────────────────────────────┼─────────────────────────────┼─────────────────┤\n",
       "│ dropout (<span style=\"color: #0087ff; text-decoration-color: #0087ff\">Dropout</span>)                    │ (<span style=\"color: #00d7ff; text-decoration-color: #00d7ff\">None</span>, <span style=\"color: #00af00; text-decoration-color: #00af00\">64</span>)                  │               <span style=\"color: #00af00; text-decoration-color: #00af00\">0</span> │\n",
       "├──────────────────────────────────────┼─────────────────────────────┼─────────────────┤\n",
       "│ dense_1 (<span style=\"color: #0087ff; text-decoration-color: #0087ff\">Dense</span>)                      │ (<span style=\"color: #00d7ff; text-decoration-color: #00d7ff\">None</span>, <span style=\"color: #00af00; text-decoration-color: #00af00\">10</span>)                  │             <span style=\"color: #00af00; text-decoration-color: #00af00\">650</span> │\n",
       "└──────────────────────────────────────┴─────────────────────────────┴─────────────────┘\n",
       "</pre>\n"
      ],
      "text/plain": [
       "┏━━━━━━━━━━━━━━━━━━━━━━━━━━━━━━━━━━━━━━┳━━━━━━━━━━━━━━━━━━━━━━━━━━━━━┳━━━━━━━━━━━━━━━━━┓\n",
       "┃\u001b[1m \u001b[0m\u001b[1mLayer (type)                        \u001b[0m\u001b[1m \u001b[0m┃\u001b[1m \u001b[0m\u001b[1mOutput Shape               \u001b[0m\u001b[1m \u001b[0m┃\u001b[1m \u001b[0m\u001b[1m        Param #\u001b[0m\u001b[1m \u001b[0m┃\n",
       "┡━━━━━━━━━━━━━━━━━━━━━━━━━━━━━━━━━━━━━━╇━━━━━━━━━━━━━━━━━━━━━━━━━━━━━╇━━━━━━━━━━━━━━━━━┩\n",
       "│ conv2d (\u001b[38;5;33mConv2D\u001b[0m)                      │ (\u001b[38;5;45mNone\u001b[0m, \u001b[38;5;34m26\u001b[0m, \u001b[38;5;34m26\u001b[0m, \u001b[38;5;34m32\u001b[0m)          │             \u001b[38;5;34m320\u001b[0m │\n",
       "├──────────────────────────────────────┼─────────────────────────────┼─────────────────┤\n",
       "│ max_pooling2d (\u001b[38;5;33mMaxPooling2D\u001b[0m)         │ (\u001b[38;5;45mNone\u001b[0m, \u001b[38;5;34m13\u001b[0m, \u001b[38;5;34m13\u001b[0m, \u001b[38;5;34m32\u001b[0m)          │               \u001b[38;5;34m0\u001b[0m │\n",
       "├──────────────────────────────────────┼─────────────────────────────┼─────────────────┤\n",
       "│ conv2d_1 (\u001b[38;5;33mConv2D\u001b[0m)                    │ (\u001b[38;5;45mNone\u001b[0m, \u001b[38;5;34m11\u001b[0m, \u001b[38;5;34m11\u001b[0m, \u001b[38;5;34m64\u001b[0m)          │          \u001b[38;5;34m18,496\u001b[0m │\n",
       "├──────────────────────────────────────┼─────────────────────────────┼─────────────────┤\n",
       "│ max_pooling2d_1 (\u001b[38;5;33mMaxPooling2D\u001b[0m)       │ (\u001b[38;5;45mNone\u001b[0m, \u001b[38;5;34m5\u001b[0m, \u001b[38;5;34m5\u001b[0m, \u001b[38;5;34m64\u001b[0m)            │               \u001b[38;5;34m0\u001b[0m │\n",
       "├──────────────────────────────────────┼─────────────────────────────┼─────────────────┤\n",
       "│ flatten (\u001b[38;5;33mFlatten\u001b[0m)                    │ (\u001b[38;5;45mNone\u001b[0m, \u001b[38;5;34m1600\u001b[0m)                │               \u001b[38;5;34m0\u001b[0m │\n",
       "├──────────────────────────────────────┼─────────────────────────────┼─────────────────┤\n",
       "│ dense (\u001b[38;5;33mDense\u001b[0m)                        │ (\u001b[38;5;45mNone\u001b[0m, \u001b[38;5;34m64\u001b[0m)                  │         \u001b[38;5;34m102,464\u001b[0m │\n",
       "├──────────────────────────────────────┼─────────────────────────────┼─────────────────┤\n",
       "│ dropout (\u001b[38;5;33mDropout\u001b[0m)                    │ (\u001b[38;5;45mNone\u001b[0m, \u001b[38;5;34m64\u001b[0m)                  │               \u001b[38;5;34m0\u001b[0m │\n",
       "├──────────────────────────────────────┼─────────────────────────────┼─────────────────┤\n",
       "│ dense_1 (\u001b[38;5;33mDense\u001b[0m)                      │ (\u001b[38;5;45mNone\u001b[0m, \u001b[38;5;34m10\u001b[0m)                  │             \u001b[38;5;34m650\u001b[0m │\n",
       "└──────────────────────────────────────┴─────────────────────────────┴─────────────────┘\n"
      ]
     },
     "metadata": {},
     "output_type": "display_data"
    },
    {
     "data": {
      "text/html": [
       "<pre style=\"white-space:pre;overflow-x:auto;line-height:normal;font-family:Menlo,'DejaVu Sans Mono',consolas,'Courier New',monospace\"><span style=\"font-weight: bold\"> Total params: </span><span style=\"color: #00af00; text-decoration-color: #00af00\">121,930</span> (476.29 KB)\n",
       "</pre>\n"
      ],
      "text/plain": [
       "\u001b[1m Total params: \u001b[0m\u001b[38;5;34m121,930\u001b[0m (476.29 KB)\n"
      ]
     },
     "metadata": {},
     "output_type": "display_data"
    },
    {
     "data": {
      "text/html": [
       "<pre style=\"white-space:pre;overflow-x:auto;line-height:normal;font-family:Menlo,'DejaVu Sans Mono',consolas,'Courier New',monospace\"><span style=\"font-weight: bold\"> Trainable params: </span><span style=\"color: #00af00; text-decoration-color: #00af00\">121,930</span> (476.29 KB)\n",
       "</pre>\n"
      ],
      "text/plain": [
       "\u001b[1m Trainable params: \u001b[0m\u001b[38;5;34m121,930\u001b[0m (476.29 KB)\n"
      ]
     },
     "metadata": {},
     "output_type": "display_data"
    },
    {
     "data": {
      "text/html": [
       "<pre style=\"white-space:pre;overflow-x:auto;line-height:normal;font-family:Menlo,'DejaVu Sans Mono',consolas,'Courier New',monospace\"><span style=\"font-weight: bold\"> Non-trainable params: </span><span style=\"color: #00af00; text-decoration-color: #00af00\">0</span> (0.00 B)\n",
       "</pre>\n"
      ],
      "text/plain": [
       "\u001b[1m Non-trainable params: \u001b[0m\u001b[38;5;34m0\u001b[0m (0.00 B)\n"
      ]
     },
     "metadata": {},
     "output_type": "display_data"
    }
   ],
   "source": [
    "from tensorflow.keras.models import Sequential\n",
    "from tensorflow.keras.layers import Conv2D, MaxPooling2D, Flatten, Dense, Dropout\n",
    "\n",
    "# Initialize the model\n",
    "model = Sequential()\n",
    "\n",
    "# Convolutional layer 1 + Pooling layer 1\n",
    "model.add(Conv2D(32, (3, 3), activation='relu', input_shape=(28, 28, 1)))\n",
    "model.add(MaxPooling2D((2, 2)))\n",
    "\n",
    "# Convolutional layer 2 + Pooling layer 2\n",
    "model.add(Conv2D(64, (3, 3), activation='relu'))\n",
    "model.add(MaxPooling2D((2, 2)))\n",
    "\n",
    "# Flatten the output for the dense layers\n",
    "model.add(Flatten())\n",
    "\n",
    "# Fully connected layer\n",
    "model.add(Dense(64, activation='relu'))\n",
    "model.add(Dropout(0.5))  # Dropout for regularization\n",
    "\n",
    "# Output layer (10 classes for digits 0-9)\n",
    "model.add(Dense(10, activation='softmax'))\n",
    "\n",
    "# Compile the model\n",
    "model.compile(optimizer='adam', loss='categorical_crossentropy', metrics=['accuracy'])\n",
    "\n",
    "# Display the model summary\n",
    "model.summary()"
   ]
  },
  {
   "cell_type": "code",
   "execution_count": 7,
   "id": "c779d7b2",
   "metadata": {},
   "outputs": [
    {
     "name": "stdout",
     "output_type": "stream",
     "text": [
      "Epoch 1/10\n",
      "\u001b[1m938/938\u001b[0m \u001b[32m━━━━━━━━━━━━━━━━━━━━\u001b[0m\u001b[37m\u001b[0m \u001b[1m32s\u001b[0m 31ms/step - accuracy: 0.7942 - loss: 0.6344 - val_accuracy: 0.9798 - val_loss: 0.0639\n",
      "Epoch 2/10\n",
      "\u001b[1m938/938\u001b[0m \u001b[32m━━━━━━━━━━━━━━━━━━━━\u001b[0m\u001b[37m\u001b[0m \u001b[1m42s\u001b[0m 33ms/step - accuracy: 0.9552 - loss: 0.1529 - val_accuracy: 0.9826 - val_loss: 0.0515\n",
      "Epoch 3/10\n",
      "\u001b[1m938/938\u001b[0m \u001b[32m━━━━━━━━━━━━━━━━━━━━\u001b[0m\u001b[37m\u001b[0m \u001b[1m30s\u001b[0m 32ms/step - accuracy: 0.9670 - loss: 0.1105 - val_accuracy: 0.9883 - val_loss: 0.0362\n",
      "Epoch 4/10\n",
      "\u001b[1m938/938\u001b[0m \u001b[32m━━━━━━━━━━━━━━━━━━━━\u001b[0m\u001b[37m\u001b[0m \u001b[1m30s\u001b[0m 32ms/step - accuracy: 0.9742 - loss: 0.0854 - val_accuracy: 0.9868 - val_loss: 0.0377\n",
      "Epoch 5/10\n",
      "\u001b[1m938/938\u001b[0m \u001b[32m━━━━━━━━━━━━━━━━━━━━\u001b[0m\u001b[37m\u001b[0m \u001b[1m40s\u001b[0m 31ms/step - accuracy: 0.9777 - loss: 0.0738 - val_accuracy: 0.9892 - val_loss: 0.0331\n",
      "Epoch 6/10\n",
      "\u001b[1m938/938\u001b[0m \u001b[32m━━━━━━━━━━━━━━━━━━━━\u001b[0m\u001b[37m\u001b[0m \u001b[1m29s\u001b[0m 31ms/step - accuracy: 0.9816 - loss: 0.0635 - val_accuracy: 0.9907 - val_loss: 0.0272\n",
      "Epoch 7/10\n",
      "\u001b[1m938/938\u001b[0m \u001b[32m━━━━━━━━━━━━━━━━━━━━\u001b[0m\u001b[37m\u001b[0m \u001b[1m29s\u001b[0m 31ms/step - accuracy: 0.9819 - loss: 0.0576 - val_accuracy: 0.9913 - val_loss: 0.0292\n",
      "Epoch 8/10\n",
      "\u001b[1m938/938\u001b[0m \u001b[32m━━━━━━━━━━━━━━━━━━━━\u001b[0m\u001b[37m\u001b[0m \u001b[1m30s\u001b[0m 32ms/step - accuracy: 0.9854 - loss: 0.0488 - val_accuracy: 0.9932 - val_loss: 0.0231\n",
      "Epoch 9/10\n",
      "\u001b[1m938/938\u001b[0m \u001b[32m━━━━━━━━━━━━━━━━━━━━\u001b[0m\u001b[37m\u001b[0m \u001b[1m41s\u001b[0m 32ms/step - accuracy: 0.9855 - loss: 0.0445 - val_accuracy: 0.9912 - val_loss: 0.0268\n",
      "Epoch 10/10\n",
      "\u001b[1m938/938\u001b[0m \u001b[32m━━━━━━━━━━━━━━━━━━━━\u001b[0m\u001b[37m\u001b[0m \u001b[1m32s\u001b[0m 34ms/step - accuracy: 0.9873 - loss: 0.0410 - val_accuracy: 0.9923 - val_loss: 0.0276\n"
     ]
    },
    {
     "name": "stderr",
     "output_type": "stream",
     "text": [
      "WARNING:absl:You are saving your model as an HDF5 file via `model.save()` or `keras.saving.save_model(model)`. This file format is considered legacy. We recommend using instead the native Keras format, e.g. `model.save('my_model.keras')` or `keras.saving.save_model(model, 'my_model.keras')`. \n"
     ]
    },
    {
     "name": "stdout",
     "output_type": "stream",
     "text": [
      "Model saved as mnist_cnn_model.h5\n"
     ]
    }
   ],
   "source": [
    "# Train the model\n",
    "history = model.fit(x_train, y_train, epochs=10, batch_size=64, validation_data=(x_test, y_test))\n",
    "\n",
    "# Save the trained model\n",
    "model.save('mnist_cnn_model.h5')\n",
    "print(\"Model saved as mnist_cnn_model.h5\")\n"
   ]
  },
  {
   "cell_type": "code",
   "execution_count": 8,
   "id": "be68ce06",
   "metadata": {},
   "outputs": [
    {
     "name": "stdout",
     "output_type": "stream",
     "text": [
      "Test Accuracy: 99.23%\n"
     ]
    }
   ],
   "source": [
    "# Evaluate the model on the test set\n",
    "test_loss, test_accuracy = model.evaluate(x_test, y_test, verbose=0)\n",
    "print(f\"Test Accuracy: {test_accuracy * 100:.2f}%\")"
   ]
  },
  {
   "cell_type": "code",
   "execution_count": 9,
   "id": "89518d84",
   "metadata": {},
   "outputs": [
    {
     "data": {
      "image/png": "[encoded data removed]",
      "text/plain": [
       "<Figure size 1200x400 with 2 Axes>"
      ]
     },
     "metadata": {},
     "output_type": "display_data"
    }
   ],
   "source": [
    "# Import matplotlib for plotting\n",
    "import matplotlib.pyplot as plt\n",
    "\n",
    "# Plot training & validation accuracy values\n",
    "plt.figure(figsize=(12, 4))\n",
    "\n",
    "# Plot accuracy\n",
    "plt.subplot(1, 2, 1)\n",
    "plt.plot(history.history['accuracy'], label='Training Accuracy')\n",
    "plt.plot(history.history['val_accuracy'], label='Validation Accuracy')\n",
    "plt.title('Model Accuracy')\n",
    "plt.xlabel('Epoch')\n",
    "plt.ylabel('Accuracy')\n",
    "plt.legend(loc='lower right')\n",
    "\n",
    "# Plot loss\n",
    "plt.subplot(1, 2, 2)\n",
    "plt.plot(history.history['loss'], label='Training Loss')\n",
    "plt.plot(history.history['val_loss'], label='Validation Loss')\n",
    "plt.title('Model Loss')\n",
    "plt.xlabel('Epoch')\n",
    "plt.ylabel('Loss')\n",
    "plt.legend(loc='upper right')\n",
    "\n",
    "# Show plots\n",
    "plt.show()"
   ]
  },
  {
   "cell_type": "code",
   "execution_count": 11,
   "id": "3cffbfa2",
   "metadata": {},
   "outputs": [
    {
     "name": "stdout",
     "output_type": "stream",
     "text": [
      "\u001b[1m1/1\u001b[0m \u001b[32m━━━━━━━━━━━━━━━━━━━━\u001b[0m\u001b[37m\u001b[0m \u001b[1m0s\u001b[0m 36ms/step\n"
     ]
    },
    {
     "data": {
      "image/png": "[encoded data removed]",
      "text/plain": [
       "<Figure size 640x480 with 1 Axes>"
      ]
     },
     "metadata": {},
     "output_type": "display_data"
    }
   ],
   "source": [
    "# Choose a test image at random\n",
    "import numpy as np\n",
    "\n",
    "index = np.random.randint(0, x_test.shape[0])\n",
    "test_image = x_test[index]\n",
    "true_label = np.argmax(y_test[index])\n",
    "\n",
    "# Add a batch dimension and make a prediction\n",
    "prediction = model.predict(test_image.reshape(1, 28, 28, 1))\n",
    "predicted_label = np.argmax(prediction)\n",
    "\n",
    "# Display the result\n",
    "plt.imshow(test_image.reshape(28, 28), cmap='gray')\n",
    "plt.title(f\"Predicted: {predicted_label}, True: {true_label}\")\n",
    "plt.axis('off')\n",
    "plt.show()"
   ]
  },
  {
   "cell_type": "code",
   "execution_count": 13,
   "id": "c9a6f3fa",
   "metadata": {},
   "outputs": [
    {
     "name": "stderr",
     "output_type": "stream",
     "text": [
      "WARNING:absl:Compiled the loaded model, but the compiled metrics have yet to be built. `model.compile_metrics` will be empty until you train or evaluate the model.\n"
     ]
    }
   ],
   "source": [
    "import tkinter as tk\n",
    "from tkinter import ttk, messagebox, colorchooser, filedialog\n",
    "from PIL import Image, ImageGrab, ImageOps\n",
    "import numpy as np\n",
    "import tensorflow as tf\n",
    "from tensorflow.keras.models import load_model\n",
    "import os\n",
    "import logging\n",
    "from datetime import datetime\n",
    "import json\n",
    "\n",
    "class EnhancedDigitRecognizer:\n",
    "    def __init__(self, model_path='mnist_cnn_model.h5'):\n",
    "        self.setup_logging()\n",
    "        self.load_model(model_path)\n",
    "        self.prediction_history = []\n",
    "        self.load_settings()\n",
    "        self.setup_ui()\n",
    "        self.drawing = False\n",
    "        self.last_x = None\n",
    "        self.last_y = None\n",
    "        self.current_brush_color = \"#000000\"\n",
    "        self.strokes = []  # Store drawing strokes for undo\n",
    "        \n",
    "    def setup_logging(self):\n",
    "        \"\"\"Configure logging\"\"\"\n",
    "        log_dir = 'logs'\n",
    "        if not os.path.exists(log_dir):\n",
    "            os.makedirs(log_dir)\n",
    "            \n",
    "        logging.basicConfig(\n",
    "            filename=f'logs/digit_recognizer_{datetime.now().strftime(\"%Y%m%d_%H%M%S\")}.log',\n",
    "            level=logging.INFO,\n",
    "            format='%(asctime)s - %(levelname)s - %(message)s'\n",
    "        )\n",
    "\n",
    "    def load_model(self, model_path):\n",
    "        \"\"\"Load the trained model\"\"\"\n",
    "        try:\n",
    "            self.model = load_model(model_path)\n",
    "            logging.info(\"Model loaded successfully\")\n",
    "        except Exception as e:\n",
    "            logging.error(f\"Failed to load model: {str(e)}\")\n",
    "            messagebox.showerror(\"Error\", \"Failed to load the model. Please check if the model file exists.\")\n",
    "            raise\n",
    "\n",
    "    def load_settings(self):\n",
    "        \"\"\"Load user settings\"\"\"\n",
    "        self.settings = {\n",
    "            'brush_size': 15,\n",
    "            'brush_color': '#000000',\n",
    "            'canvas_color': '#FFFFFF'\n",
    "        }\n",
    "        \n",
    "        try:\n",
    "            if os.path.exists('settings.json'):\n",
    "                with open('settings.json', 'r') as f:\n",
    "                    self.settings.update(json.load(f))\n",
    "        except Exception as e:\n",
    "            logging.error(f\"Failed to load settings: {str(e)}\")\n",
    "\n",
    "    def setup_ui(self):\n",
    "        \"\"\"Initialize the UI\"\"\"\n",
    "        self.window = tk.Tk()\n",
    "        self.window.title(\"Enhanced Digit Recognizer\")\n",
    "        self.window.geometry(\"800x600\")\n",
    "        \n",
    "        # Configure styles\n",
    "        style = ttk.Style()\n",
    "        style.configure(\"TButton\", padding=5)\n",
    "        style.configure(\"TLabel\", padding=3)\n",
    "        \n",
    "        # Main container with two panels\n",
    "        main_container = ttk.PanedWindow(self.window, orient=tk.HORIZONTAL)\n",
    "        main_container.pack(fill=tk.BOTH, expand=True, padx=5, pady=5)\n",
    "        \n",
    "        # Left panel for drawing\n",
    "        left_panel = ttk.Frame(main_container)\n",
    "        main_container.add(left_panel, weight=2)\n",
    "        \n",
    "        # Right panel for history\n",
    "        right_panel = ttk.Frame(main_container)\n",
    "        main_container.add(right_panel, weight=1)\n",
    "        \n",
    "        self.setup_drawing_area(left_panel)\n",
    "        self.setup_controls(left_panel)\n",
    "        self.setup_history_panel(right_panel)\n",
    "        \n",
    "    def setup_drawing_area(self, parent):\n",
    "        \"\"\"Setup the drawing canvas\"\"\"\n",
    "        # Canvas frame\n",
    "        canvas_frame = ttk.LabelFrame(parent, text=\"Drawing Area\", padding=10)\n",
    "        canvas_frame.pack(fill=tk.BOTH, expand=True, padx=5, pady=5)\n",
    "        \n",
    "        # Canvas\n",
    "        self.canvas = tk.Canvas(\n",
    "            canvas_frame,\n",
    "            width=280,\n",
    "            height=280,\n",
    "            bg=self.settings['canvas_color'],\n",
    "            relief=\"ridge\",\n",
    "            bd=3\n",
    "        )\n",
    "        self.canvas.pack(padx=5, pady=5)\n",
    "        \n",
    "        # Bind events\n",
    "        self.canvas.bind(\"<Button-1>\", self.start_drawing)\n",
    "        self.canvas.bind(\"<B1-Motion>\", self.draw)\n",
    "        self.canvas.bind(\"<ButtonRelease-1>\", self.stop_drawing)\n",
    "        \n",
    "    def setup_controls(self, parent):\n",
    "        \"\"\"Setup the control panel\"\"\"\n",
    "        controls = ttk.LabelFrame(parent, text=\"Controls\", padding=10)\n",
    "        controls.pack(fill=tk.X, padx=5, pady=5)\n",
    "        \n",
    "        # Brush size control\n",
    "        size_frame = ttk.Frame(controls)\n",
    "        size_frame.pack(fill=tk.X, pady=5)\n",
    "        \n",
    "        ttk.Label(size_frame, text=\"Brush Size:\").pack(side=tk.LEFT, padx=5)\n",
    "        self.brush_size = tk.IntVar(value=self.settings['brush_size'])\n",
    "        brush_scale = ttk.Scale(\n",
    "            size_frame,\n",
    "            from_=5,\n",
    "            to=30,\n",
    "            orient=tk.HORIZONTAL,\n",
    "            variable=self.brush_size\n",
    "        )\n",
    "        brush_scale.pack(side=tk.LEFT, fill=tk.X, expand=True, padx=5)\n",
    "        \n",
    "        # Color picker\n",
    "        color_btn = ttk.Button(\n",
    "            size_frame,\n",
    "            text=\"Brush Color\",\n",
    "            command=self.choose_color\n",
    "        )\n",
    "        color_btn.pack(side=tk.LEFT, padx=5)\n",
    "        \n",
    "        # Action buttons\n",
    "        btn_frame = ttk.Frame(controls)\n",
    "        btn_frame.pack(fill=tk.X, pady=5)\n",
    "        \n",
    "        ttk.Button(\n",
    "            btn_frame,\n",
    "            text=\"Clear\",\n",
    "            command=self.clear_canvas\n",
    "        ).pack(side=tk.LEFT, padx=5)\n",
    "        \n",
    "        ttk.Button(\n",
    "            btn_frame,\n",
    "            text=\"Predict\",\n",
    "            command=self.predict_digit\n",
    "        ).pack(side=tk.LEFT, padx=5)\n",
    "        \n",
    "        ttk.Button(\n",
    "            btn_frame,\n",
    "            text=\"Undo\",\n",
    "            command=self.undo_last_stroke\n",
    "        ).pack(side=tk.LEFT, padx=5)\n",
    "        \n",
    "        ttk.Button(\n",
    "            btn_frame,\n",
    "            text=\"Save Drawing\",\n",
    "            command=self.save_drawing\n",
    "        ).pack(side=tk.LEFT, padx=5)\n",
    "        \n",
    "        # Results display\n",
    "        self.result_label = ttk.Label(\n",
    "            controls,\n",
    "            text=\"Draw a digit and click Predict\",\n",
    "            font=('Helvetica', 14)\n",
    "        )\n",
    "        self.result_label.pack(pady=5)\n",
    "        \n",
    "        self.confidence_label = ttk.Label(\n",
    "            controls,\n",
    "            text=\"\",\n",
    "            font=('Helvetica', 12)\n",
    "        )\n",
    "        self.confidence_label.pack()\n",
    "        \n",
    "    def setup_history_panel(self, parent):\n",
    "        \"\"\"Setup the prediction history panel\"\"\"\n",
    "        history_frame = ttk.LabelFrame(parent, text=\"Prediction History\", padding=10)\n",
    "        history_frame.pack(fill=tk.BOTH, expand=True, padx=5, pady=5)\n",
    "        \n",
    "        # Create treeview\n",
    "        columns = ('Time', 'Digit', 'Confidence')\n",
    "        self.history_tree = ttk.Treeview(\n",
    "            history_frame,\n",
    "            columns=columns,\n",
    "            show='headings',\n",
    "            height=10\n",
    "        )\n",
    "        \n",
    "        # Configure columns\n",
    "        for col in columns:\n",
    "            self.history_tree.heading(col, text=col)\n",
    "            self.history_tree.column(col, width=80)\n",
    "        \n",
    "        # Add scrollbar\n",
    "        scrollbar = ttk.Scrollbar(\n",
    "            history_frame,\n",
    "            orient=tk.VERTICAL,\n",
    "            command=self.history_tree.yview\n",
    "        )\n",
    "        \n",
    "        self.history_tree.configure(yscrollcommand=scrollbar.set)\n",
    "        \n",
    "        # Pack elements\n",
    "        self.history_tree.pack(side=tk.LEFT, fill=tk.BOTH, expand=True)\n",
    "        scrollbar.pack(side=tk.RIGHT, fill=tk.Y)\n",
    "        \n",
    "        # Export button\n",
    "        ttk.Button(\n",
    "            history_frame,\n",
    "            text=\"Export History\",\n",
    "            command=self.export_history\n",
    "        ).pack(pady=5)\n",
    "\n",
    "    def choose_color(self):\n",
    "        \"\"\"Open color picker\"\"\"\n",
    "        color = colorchooser.askcolor(title=\"Choose Brush Color\")[1]\n",
    "        if color:\n",
    "            self.current_brush_color = color\n",
    "            self.settings['brush_color'] = color\n",
    "\n",
    "    def clear_canvas(self):\n",
    "        \"\"\"Clear the canvas\"\"\"\n",
    "        self.canvas.delete(\"all\")\n",
    "        self.strokes = []\n",
    "        self.result_label.config(text=\"Draw a digit and click Predict\")\n",
    "        self.confidence_label.config(text=\"\")\n",
    "        logging.info(\"Canvas cleared\")\n",
    "\n",
    "    def undo_last_stroke(self):\n",
    "        \"\"\"Undo the last drawing stroke\"\"\"\n",
    "        if self.strokes:\n",
    "            last_stroke = self.strokes.pop()\n",
    "            self.canvas.delete(last_stroke)\n",
    "\n",
    "    def start_drawing(self, event):\n",
    "        \"\"\"Handle drawing start\"\"\"\n",
    "        self.drawing = True\n",
    "        self.last_x = event.x\n",
    "        self.last_y = event.y\n",
    "\n",
    "    def draw(self, event):\n",
    "        \"\"\"Handle drawing motion\"\"\"\n",
    "        if self.drawing:\n",
    "            x, y = event.x, event.y\n",
    "            size = self.brush_size.get()\n",
    "            \n",
    "            line = self.canvas.create_line(\n",
    "                self.last_x, self.last_y, x, y,\n",
    "                width=size,\n",
    "                fill=self.current_brush_color,\n",
    "                capstyle=tk.ROUND,\n",
    "                smooth=True\n",
    "            )\n",
    "            \n",
    "            self.strokes.append(line)\n",
    "            self.last_x = x\n",
    "            self.last_y = y\n",
    "\n",
    "    def stop_drawing(self, event):\n",
    "        \"\"\"Handle drawing stop\"\"\"\n",
    "        self.drawing = False\n",
    "\n",
    "    def save_drawing(self):\n",
    "        \"\"\"Save the current drawing\"\"\"\n",
    "        try:\n",
    "            filename = filedialog.asksaveasfilename(\n",
    "                defaultextension=\".png\",\n",
    "                filetypes=[(\"PNG files\", \"*.png\"), (\"All files\", \"*.*\")]\n",
    "            )\n",
    "            if filename:\n",
    "                x = self.window.winfo_rootx() + self.canvas.winfo_x()\n",
    "                y = self.window.winfo_rooty() + self.canvas.winfo_y()\n",
    "                x1 = x + self.canvas.winfo_width()\n",
    "                y1 = y + self.canvas.winfo_height()\n",
    "                \n",
    "                ImageGrab.grab().crop((x, y, x1, y1)).save(filename)\n",
    "                messagebox.showinfo(\"Success\", \"Drawing saved successfully!\")\n",
    "        except Exception as e:\n",
    "            logging.error(f\"Failed to save drawing: {str(e)}\")\n",
    "            messagebox.showerror(\"Error\", \"Failed to save drawing\")\n",
    "\n",
    "    def export_history(self):\n",
    "        \"\"\"Export prediction history\"\"\"\n",
    "        try:\n",
    "            filename = filedialog.asksaveasfilename(\n",
    "                defaultextension=\".csv\",\n",
    "                filetypes=[(\"CSV files\", \"*.csv\"), (\"All files\", \"*.*\")]\n",
    "            )\n",
    "            if filename:\n",
    "                with open(filename, 'w') as f:\n",
    "                    f.write(\"Time,Digit,Confidence\\n\")\n",
    "                    for record in self.prediction_history:\n",
    "                        f.write(f\"{record['time']},{record['digit']},{record['confidence']}\\n\")\n",
    "                messagebox.showinfo(\"Success\", \"History exported successfully!\")\n",
    "        except Exception as e:\n",
    "            logging.error(f\"Failed to export history: {str(e)}\")\n",
    "            messagebox.showerror(\"Error\", \"Failed to export history\")\n",
    "\n",
    "    def preprocess_image(self):\n",
    "        \"\"\"Preprocess the canvas image\"\"\"\n",
    "        try:\n",
    "            x = self.window.winfo_rootx() + self.canvas.winfo_x()\n",
    "            y = self.window.winfo_rooty() + self.canvas.winfo_y()\n",
    "            x1 = x + self.canvas.winfo_width()\n",
    "            y1 = y + self.canvas.winfo_height()\n",
    "            \n",
    "            img = ImageGrab.grab().crop((x, y, x1, y1))\n",
    "            img = img.convert('L')\n",
    "            img = ImageOps.invert(img)\n",
    "            img = img.resize((28, 28), Image.Resampling.LANCZOS)\n",
    "            \n",
    "            img_array = np.array(img).astype('float32') / 255\n",
    "            img_array = img_array.reshape(1, 28, 28, 1)\n",
    "            \n",
    "            return img_array\n",
    "        except Exception as e:\n",
    "            logging.error(f\"Image preprocessing failed: {str(e)}\")\n",
    "            messagebox.showerror(\"Error\", \"Failed to process the image\")\n",
    "            return None\n",
    "\n",
    "    def predict_digit(self):\n",
    "        \"\"\"Predict the drawn digit\"\"\"\n",
    "        try:\n",
    "            img_array = self.preprocess_image()\n",
    "            if img_array is None:\n",
    "                return\n",
    "                \n",
    "            prediction = self.model.predict(img_array, verbose=0)\n",
    "            digit = np.argmax(prediction)\n",
    "            confidence = prediction[0][digit] * 100\n",
    "            \n",
    "            # Update display\n",
    "            self.result_label.config(\n",
    "                text=f\"Predicted Digit: {digit}\",\n",
    "                foreground=\"green\" if confidence > 80 else \"orange\"\n",
    "            )\n",
    "            self.confidence_label.config(\n",
    "                text=f\"Confidence: {confidence:.2f}%\"\n",
    "            )\n",
    "            \n",
    "            # Update history\n",
    "            timestamp = datetime.now().strftime(\"%H:%M:%S\")\n",
    "            self.history_tree.insert(\n",
    "                '',\n",
    "                'end',\n",
    "                values=(timestamp, digit, f\"{confidence:.2f}%\")\n",
    "            )\n",
    "            \n",
    "            # Store prediction\n",
    "            self.prediction_history.append({\n",
    "                'time': timestamp,\n",
    "                'digit': digit,\n",
    "                'confidence': confidence\n",
    "            })\n",
    "            \n",
    "            logging.info(f\"Prediction made: digit={digit}, confidence={confidence:.2f}%\")\n",
    "            \n",
    "        except Exception as e:\n",
    "            logging.error(f\"Prediction failed: {str(e)}\")\n",
    "            messagebox.showerror(\"Error\", \"Failed to make prediction\")\n",
    "\n",
    "    def run(self):\n",
    "        \"\"\"Start the application\"\"\"\n",
    "        try:\n",
    "            self.window.mainloop()\n",
    "        except Exception as e:\n",
    "            logging.error(f\"Application crashed: {str(e)}\")\n",
    "            messagebox.showerror(\"Error\", \"Application crashed. Check logs for details.\")\n",
    "\n",
    "if __name__ == \"__main__\":\n",
    "    try:\n",
    "        app = EnhancedDigitRecognizer()\n",
    "        app.run()\n",
    "    except Exception as e:\n",
    "        logging.error(f\"Failed to start application: {str(e)}\")\n",
    "        messagebox.showerror(\"Error\", \"Failed to start application\")"
   ]
  },
  {
   "cell_type": "code",
   "execution_count": null,
   "id": "40557565",
   "metadata": {},
   "outputs": [],
   "source": []
  }
 ],
 "metadata": {
  "kernelspec": {
   "display_name": "Python 3 (ipykernel)",
   "language": "python",
   "name": "python3"
  },
  "language_info": {
   "codemirror_mode": {
    "name": "ipython",
    "version": 3
   },
   "file_extension": ".py",
   "mimetype": "text/x-python",
   "name": "python",
   "nbconvert_exporter": "python",
   "pygments_lexer": "ipython3",
   "version": "3.9.13"
  }
 },
 "nbformat": 4,
 "nbformat_minor": 5
}
